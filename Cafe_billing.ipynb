{
  "nbformat": 4,
  "nbformat_minor": 0,
  "metadata": {
    "colab": {
      "provenance": [],
      "authorship_tag": "ABX9TyPO19ggvXRde7tuJdoW2Qaq",
      "include_colab_link": true
    },
    "kernelspec": {
      "name": "python3",
      "display_name": "Python 3"
    },
    "language_info": {
      "name": "python"
    }
  },
  "cells": [
    {
      "cell_type": "markdown",
      "metadata": {
        "id": "view-in-github",
        "colab_type": "text"
      },
      "source": [
        "<a href=\"https://colab.research.google.com/github/Harshita989/Cafe_billing/blob/main/Cafe_billing.ipynb\" target=\"_parent\"><img src=\"https://colab.research.google.com/assets/colab-badge.svg\" alt=\"Open In Colab\"/></a>"
      ]
    },
    {
      "cell_type": "code",
      "execution_count": 17,
      "metadata": {
        "colab": {
          "base_uri": "https://localhost:8080/"
        },
        "id": "ZvHZGKojj1xH",
        "outputId": "510644a4-d408-4dd0-f46c-1d3fc92090e2"
      },
      "outputs": [
        {
          "output_type": "stream",
          "name": "stdout",
          "text": [
            "WELCOME TO PYTHON RESTRO\n",
            "Menu:\n",
            "Pizza: $90\n",
            "Burger: $50\n",
            "Noodles: $80\n",
            "Coffee: $60\n",
            "Spring_roll: $80\n",
            "Enter the name of the item you want to order Pizza\n",
            "Your item Pizza has been added to your order\n",
            "Do you want to order another item? yes/nono\n",
            "The total amount of order to pay is $90\n"
          ]
        }
      ],
      "source": [
        "#Define the menu\n",
        "menu={\n",
        "    'Pizza':90,\n",
        "    'Burger':50,\n",
        "    'Noodles':80,\n",
        "    'Coffee':60,\n",
        "    'Spring_roll':80\n",
        "}\n",
        "print(\"WELCOME TO PYTHON RESTRO\")\n",
        "print(\"Menu:\")\n",
        "for item, price in menu.items():\n",
        "  print(f\"{item}: ${price}\")\n",
        "\n",
        "order_total=0\n",
        "item1= str(input(\"Enter the name of the item you want to order \"))\n",
        "if item1 in menu:\n",
        "  order_total +=menu[item1]\n",
        "  print(f\"Your item {item1} has been added to your order\")\n",
        "else:\n",
        "  print(\"Please ! order something else that we can serve\")\n",
        "\n",
        "another_order= input(\"Do you want to order another item? yes/no\")\n",
        "if another_order==\"yes\":\n",
        "  second_item=input(\"Enter the name of another item:\")\n",
        "  if second_item in menu:\n",
        "    order_total+=menu[second_item]\n",
        "    print(f\"Item {second_item} has been added\")\n",
        "  else:\n",
        "    print(f\"order item {second_item} is not available\")\n",
        "\n",
        "print(f\"The total amount of order to pay is ${order_total}\")"
      ]
    },
    {
      "cell_type": "code",
      "source": [
        "p"
      ],
      "metadata": {
        "id": "OipNXJG-noO_"
      },
      "execution_count": null,
      "outputs": []
    }
  ]
}